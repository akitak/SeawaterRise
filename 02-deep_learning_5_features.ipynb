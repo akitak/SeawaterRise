{
 "cells": [
  {
   "cell_type": "markdown",
   "metadata": {},
   "source": [
    "# Deep Learning Models"
   ]
  },
  {
   "cell_type": "code",
   "execution_count": 114,
   "metadata": {},
   "outputs": [],
   "source": [
    "import pandas as pd\n",
    "\n",
    "from sklearn.preprocessing import StandardScaler\n",
    "from sklearn.model_selection import train_test_split, GridSearchCV\n",
    "from sklearn import metrics\n",
    "from sklearn.metrics import accuracy_score, mean_squared_error\n",
    "\n",
    "from tensorflow.keras.models import Sequential\n",
    "from tensorflow.keras.layers import Dense, Dropout, GRU\n",
    "from tensorflow.keras.optimizers import Adam\n",
    "from tensorflow.keras.preprocessing.sequence import TimeseriesGenerator\n",
    "from tensorflow.keras.wrappers.scikit_learn import KerasRegressor\n",
    "\n",
    "import matplotlib.pyplot as plt"
   ]
  },
  {
   "cell_type": "code",
   "execution_count": 115,
   "metadata": {},
   "outputs": [],
   "source": [
    "Final_df = pd.read_csv('./Clean_dataframe/clean_df.csv')"
   ]
  },
  {
   "cell_type": "code",
   "execution_count": 116,
   "metadata": {},
   "outputs": [
    {
     "data": {
      "text/plain": [
       "Index(['Unnamed: 0', 'time_decimal', 'value', 'value_std_dev', 'nvalue',\n",
       "       'latitude', 'longitude', 'altitude', 'elevation', 'intake_height',\n",
       "       'NAME', 'LATITUDE', 'LONGITUDE', 'ELEVATION', 'ACMH', 'ACSH', 'AWND',\n",
       "       'DAPR', 'DASF', 'FMTM', 'MDPR', 'MDSF', 'PGTM', 'PRCP', 'PSUN', 'SNOW',\n",
       "       'SNWD', 'TAVG', 'TMAX', 'TMIN', 'TOBS', 'TSUN', 'WDF1', 'WDF2', 'WDF5',\n",
       "       'WDFG', 'WESD', 'WSF1', 'WSF2', 'WSF5', 'WSFG', 'WT01', 'WT02', 'WT03',\n",
       "       'WT04', 'WT05', 'WT06', 'WT07', 'WT08', 'WT09', 'WT10', 'WT11', 'WT13',\n",
       "       'WT14', 'WT15', 'WT16', 'WT17', 'WT18', 'WT19', 'WT21', 'WT22', 'WV01',\n",
       "       'WV03', 'WV07', 'WV18', 'WV20', 'year_month_day', 'sea_level'],\n",
       "      dtype='object')"
      ]
     },
     "execution_count": 116,
     "metadata": {},
     "output_type": "execute_result"
    }
   ],
   "source": [
    "Final_df.columns"
   ]
  },
  {
   "cell_type": "code",
   "execution_count": 117,
   "metadata": {},
   "outputs": [],
   "source": [
    "features = ['LONGITUDE', 'ELEVATION','TMIN', 'TMAX' ,'PRCP','TAVG']\n",
    "X = Final_df[features]\n",
    "y = Final_df['sea_level']\n",
    "\n",
    "X_train, X_test, y_train, y_test = train_test_split(X,y,random_state=42)"
   ]
  },
  {
   "cell_type": "code",
   "execution_count": 118,
   "metadata": {},
   "outputs": [],
   "source": [
    "sc = StandardScaler()\n",
    "X_train_sc = sc.fit_transform(X_train)\n",
    "X_test_sc = sc.transform(X_test)"
   ]
  },
  {
   "cell_type": "code",
   "execution_count": 119,
   "metadata": {},
   "outputs": [],
   "source": [
    "# construct network\n",
    "model = Sequential()\n",
    "\n",
    "# first layer\n",
    "model.add(Dense(32, input_shape=(6,), activation='relu'))\n",
    "\n",
    "# second layer\n",
    "model.add(Dense(32, activation='relu'))\n",
    "\n",
    "# output layer\n",
    "model.add(Dense(1))"
   ]
  },
  {
   "cell_type": "code",
   "execution_count": 120,
   "metadata": {},
   "outputs": [],
   "source": [
    "model.compile(loss='mse', optimizer='adam', metrics=['mae'])"
   ]
  },
  {
   "cell_type": "code",
   "execution_count": 121,
   "metadata": {},
   "outputs": [
    {
     "name": "stdout",
     "output_type": "stream",
     "text": [
      "Epoch 1/10\n",
      "139/139 [==============================] - 0s 1ms/step - loss: 7942728.5000 - mae: 2630.4641 - val_loss: 7867356.0000 - val_mae: 2614.7195\n",
      "Epoch 2/10\n",
      "139/139 [==============================] - 0s 846us/step - loss: 7529960.0000 - mae: 2552.7847 - val_loss: 7039824.5000 - val_mae: 2457.9253\n",
      "Epoch 3/10\n",
      "139/139 [==============================] - 0s 833us/step - loss: 6159285.5000 - mae: 2281.6409 - val_loss: 5136858.0000 - val_mae: 2062.8145\n",
      "Epoch 4/10\n",
      "139/139 [==============================] - 0s 833us/step - loss: 4026484.0000 - mae: 1792.9374 - val_loss: 3006754.7500 - val_mae: 1520.6827\n",
      "Epoch 5/10\n",
      "139/139 [==============================] - 0s 824us/step - loss: 2299107.0000 - mae: 1289.5122 - val_loss: 1787657.8750 - val_mae: 1098.4799\n",
      "Epoch 6/10\n",
      "139/139 [==============================] - 0s 814us/step - loss: 1482305.3750 - mae: 966.6536 - val_loss: 1276925.8750 - val_mae: 867.5413\n",
      "Epoch 7/10\n",
      "139/139 [==============================] - 0s 825us/step - loss: 1099574.2500 - mae: 780.4508 - val_loss: 982389.8125 - val_mae: 717.1469\n",
      "Epoch 8/10\n",
      "139/139 [==============================] - 0s 817us/step - loss: 860077.7500 - mae: 652.7048 - val_loss: 787514.7500 - val_mae: 610.2998\n",
      "Epoch 9/10\n",
      "139/139 [==============================] - 0s 812us/step - loss: 708035.6875 - mae: 572.3700 - val_loss: 666916.5000 - val_mae: 553.0438\n",
      "Epoch 10/10\n",
      "139/139 [==============================] - 0s 821us/step - loss: 617385.8125 - mae: 533.8668 - val_loss: 595335.0000 - val_mae: 527.0966\n"
     ]
    }
   ],
   "source": [
    "model.fit(X_train_sc, y_train, validation_data=(X_test_sc, y_test), epochs=10, batch_size=512);"
   ]
  },
  {
   "cell_type": "code",
   "execution_count": 122,
   "metadata": {},
   "outputs": [],
   "source": [
    "test_preds = model.predict(X_test_sc)"
   ]
  },
  {
   "cell_type": "code",
   "execution_count": 123,
   "metadata": {},
   "outputs": [
    {
     "name": "stdout",
     "output_type": "stream",
     "text": [
      "RMSE on base neural network model: 771.5795010341686\n"
     ]
    }
   ],
   "source": [
    "print(f'RMSE on base neural network model: {mean_squared_error(y_test, test_preds, squared = False)}')"
   ]
  },
  {
   "cell_type": "code",
   "execution_count": 124,
   "metadata": {},
   "outputs": [
    {
     "name": "stdout",
     "output_type": "stream",
     "text": [
      "47/47 [==============================] - 0s 478us/step - loss: 595335.0000 - mae: 527.0966\n"
     ]
    },
    {
     "data": {
      "text/plain": [
       "[595335.0, 527.0966186523438]"
      ]
     },
     "execution_count": 124,
     "metadata": {},
     "output_type": "execute_result"
    }
   ],
   "source": [
    "model.evaluate(X_test_sc, y_test, batch_size=512)"
   ]
  },
  {
   "cell_type": "markdown",
   "metadata": {},
   "source": [
    "## GridSearch"
   ]
  },
  {
   "cell_type": "code",
   "execution_count": 127,
   "metadata": {},
   "outputs": [],
   "source": [
    "def model_fn_adv(hidden_neurons = 32, hidden_layers = 5, dropout = 0.5):\n",
    "    # build framework of model using for loop and if statement\n",
    "    model = Sequential()\n",
    "    \n",
    "    # adding number of layers = specified in calling of function\n",
    "    for layer in range(hidden_layers):\n",
    "        if layer == 0:\n",
    "            model.add(Dense(hidden_neurons, activation = 'relu', input_shape = (6,)))\n",
    "            model.add(Dropout(dropout))\n",
    "        else:\n",
    "            model.add(Dense(hidden_neurons, activation = 'relu'))\n",
    "            model.add(Dropout(dropout))\n",
    "    \n",
    "    # out put layer added here, Identity link function used as 'None'\n",
    "    model.add(Dense(1, activation = None))\n",
    "\n",
    "    # using mse as the metric to solve for \n",
    "    model.compile(loss = 'mse', optimizer = 'adam')\n",
    "    \n",
    "    return model"
   ]
  },
  {
   "cell_type": "code",
   "execution_count": 128,
   "metadata": {},
   "outputs": [],
   "source": [
    "nn = KerasRegressor(build_fn = model_fn_adv, batch_size = 512, verbose = 0)"
   ]
  },
  {
   "cell_type": "code",
   "execution_count": 129,
   "metadata": {},
   "outputs": [],
   "source": [
    "nn_params_deep = {\n",
    "    'hidden_neurons' : [20, 32, 64],\n",
    "    'hidden_layers'  : [2, 3, 5],\n",
    "    'dropout'        : [0.1, 0.2, 0.3, 0.4, 0.5],\n",
    "    'epochs'         : [10, 20, 30, 40, 50]\n",
    "}"
   ]
  },
  {
   "cell_type": "code",
   "execution_count": 132,
   "metadata": {},
   "outputs": [],
   "source": [
    "gs = GridSearchCV(nn, param_grid = nn_params_deep, cv = 5, verbose = 1)"
   ]
  },
  {
   "cell_type": "code",
   "execution_count": 133,
   "metadata": {},
   "outputs": [
    {
     "name": "stdout",
     "output_type": "stream",
     "text": [
      "Fitting 5 folds for each of 225 candidates, totalling 1125 fits\n"
     ]
    },
    {
     "data": {
      "text/plain": [
       "GridSearchCV(cv=5,\n",
       "             estimator=<tensorflow.python.keras.wrappers.scikit_learn.KerasRegressor object at 0x000001E42AC0FB20>,\n",
       "             param_grid={'dropout': [0.1, 0.2, 0.3, 0.4, 0.5],\n",
       "                         'epochs': [10, 20, 30, 40, 50],\n",
       "                         'hidden_layers': [2, 3, 5],\n",
       "                         'hidden_neurons': [20, 32, 64]},\n",
       "             verbose=1)"
      ]
     },
     "execution_count": 133,
     "metadata": {},
     "output_type": "execute_result"
    }
   ],
   "source": [
    "gs.fit(X_train_sc, y_train)"
   ]
  },
  {
   "cell_type": "code",
   "execution_count": 134,
   "metadata": {},
   "outputs": [
    {
     "data": {
      "text/plain": [
       "{'dropout': 0.1, 'epochs': 30, 'hidden_layers': 5, 'hidden_neurons': 64}"
      ]
     },
     "execution_count": 134,
     "metadata": {},
     "output_type": "execute_result"
    }
   ],
   "source": [
    "gs.best_params_"
   ]
  },
  {
   "cell_type": "code",
   "execution_count": 135,
   "metadata": {},
   "outputs": [
    {
     "data": {
      "text/plain": [
       "-42812.85859375"
      ]
     },
     "execution_count": 135,
     "metadata": {},
     "output_type": "execute_result"
    }
   ],
   "source": [
    "gs.best_score_"
   ]
  },
  {
   "cell_type": "code",
   "execution_count": 136,
   "metadata": {},
   "outputs": [],
   "source": [
    "# Make predictions \n",
    "preds = gs.predict(X_test_sc)"
   ]
  },
  {
   "cell_type": "code",
   "execution_count": 137,
   "metadata": {},
   "outputs": [
    {
     "data": {
      "text/plain": [
       "0.9281423319609716"
      ]
     },
     "execution_count": 137,
     "metadata": {},
     "output_type": "execute_result"
    }
   ],
   "source": [
    "# Check the R-squared\n",
    "metrics.r2_score(y_test, preds)"
   ]
  },
  {
   "cell_type": "code",
   "execution_count": 139,
   "metadata": {},
   "outputs": [
    {
     "data": {
      "text/plain": [
       "272.1333481297308"
      ]
     },
     "execution_count": 139,
     "metadata": {},
     "output_type": "execute_result"
    }
   ],
   "source": [
    "# Checking RMSE score\n",
    "mean_squared_error(y_test, preds, squared = False)"
   ]
  },
  {
   "cell_type": "markdown",
   "metadata": {},
   "source": [
    "## Recurrent Neural Networks"
   ]
  },
  {
   "cell_type": "code",
   "execution_count": 140,
   "metadata": {},
   "outputs": [],
   "source": [
    "features = ['LONGITUDE', 'ELEVATION','TMIN', 'TMAX' ,'PRCP','TAVG']\n",
    "X = Final_df[features]\n",
    "y = Final_df[['sea_level']].values\n",
    "\n",
    "X_train, X_test, y_train, y_test = train_test_split(X,y,random_state=42, shuffle = False)"
   ]
  },
  {
   "cell_type": "code",
   "execution_count": 141,
   "metadata": {},
   "outputs": [],
   "source": [
    "ss = StandardScaler()\n",
    "X_train_sc = ss.fit_transform(X_train)\n",
    "X_test_sc = ss.transform(X_test)"
   ]
  },
  {
   "cell_type": "code",
   "execution_count": 142,
   "metadata": {},
   "outputs": [],
   "source": [
    "train_sequences = TimeseriesGenerator(X_train_sc, y_train, length=40, batch_size=64)"
   ]
  },
  {
   "cell_type": "code",
   "execution_count": 143,
   "metadata": {},
   "outputs": [],
   "source": [
    "test_sequences = TimeseriesGenerator(X_test_sc, y_test, length=40, batch_size=64)"
   ]
  },
  {
   "cell_type": "code",
   "execution_count": 144,
   "metadata": {},
   "outputs": [
    {
     "data": {
      "text/plain": [
       "(64, 40, 6)"
      ]
     },
     "execution_count": 144,
     "metadata": {},
     "output_type": "execute_result"
    }
   ],
   "source": [
    "test_sequences[0][0].shape"
   ]
  },
  {
   "cell_type": "code",
   "execution_count": 145,
   "metadata": {},
   "outputs": [
    {
     "data": {
      "text/plain": [
       "(64, 40, 6)"
      ]
     },
     "execution_count": 145,
     "metadata": {},
     "output_type": "execute_result"
    }
   ],
   "source": [
    "train_sequences[0][0].shape"
   ]
  },
  {
   "cell_type": "code",
   "execution_count": 146,
   "metadata": {},
   "outputs": [],
   "source": [
    "input_shape = train_sequences[0][0][0].shape"
   ]
  },
  {
   "cell_type": "code",
   "execution_count": 155,
   "metadata": {},
   "outputs": [],
   "source": [
    "model = Sequential()\n",
    "model.add(GRU(8, input_shape=input_shape, return_sequences=True)) # True if next layer is RNN\n",
    "model.add(GRU(8, return_sequences=False)) # False if next layer is Dense\n",
    "\n",
    "model.add(Dense(4, activation='relu'))\n",
    "\n",
    "model.add(Dense(1))"
   ]
  },
  {
   "cell_type": "code",
   "execution_count": 156,
   "metadata": {},
   "outputs": [
    {
     "name": "stdout",
     "output_type": "stream",
     "text": [
      "Epoch 1/50\n",
      "1109/1109 [==============================] - 25s 21ms/step - loss: 8001168.5000 - mae: 2646.0110 - val_loss: 6741946.0000 - val_mae: 2381.3672\n",
      "Epoch 2/50\n",
      "1109/1109 [==============================] - 23s 20ms/step - loss: 7160337.0000 - mae: 2481.3450 - val_loss: 5746738.0000 - val_mae: 2162.5745\n",
      "Epoch 3/50\n",
      "1109/1109 [==============================] - 23s 20ms/step - loss: 5928179.0000 - mae: 2218.4875 - val_loss: 4532595.5000 - val_mae: 1861.8549\n",
      "Epoch 4/50\n",
      "1109/1109 [==============================] - 23s 20ms/step - loss: 4566750.0000 - mae: 1887.9540 - val_loss: 3323899.7500 - val_mae: 1507.1453\n",
      "Epoch 5/50\n",
      "1109/1109 [==============================] - 23s 20ms/step - loss: 3280872.0000 - mae: 1518.8245 - val_loss: 2290927.5000 - val_mae: 1146.7246\n",
      "Epoch 6/50\n",
      "1109/1109 [==============================] - 23s 20ms/step - loss: 2229614.7500 - mae: 1191.8303 - val_loss: 1560853.2500 - val_mae: 920.3450\n",
      "Epoch 7/50\n",
      "1109/1109 [==============================] - 23s 20ms/step - loss: 1510025.2500 - mae: 964.9911 - val_loss: 1173096.6250 - val_mae: 871.8326\n",
      "Epoch 8/50\n",
      "1109/1109 [==============================] - 23s 20ms/step - loss: 1137721.0000 - mae: 860.4874 - val_loss: 1071553.0000 - val_mae: 907.0417\n",
      "Epoch 9/50\n",
      "1109/1109 [==============================] - 23s 20ms/step - loss: 1017056.8750 - mae: 852.2631 - val_loss: 1093014.7500 - val_mae: 930.8829\n",
      "Epoch 10/50\n",
      "1109/1109 [==============================] - 23s 20ms/step - loss: 1000039.8750 - mae: 857.1466 - val_loss: 1107315.3750 - val_mae: 937.4068\n",
      "Epoch 11/50\n",
      "1109/1109 [==============================] - 23s 21ms/step - loss: 999280.5000 - mae: 858.1005 - val_loss: 1110153.8750 - val_mae: 938.5976\n",
      "Epoch 12/50\n",
      "1109/1109 [==============================] - 23s 20ms/step - loss: 1006993.3125 - mae: 860.1335 - val_loss: 1009715.5000 - val_mae: 905.3921\n",
      "Epoch 13/50\n",
      "1109/1109 [==============================] - 23s 20ms/step - loss: 679300.0000 - mae: 671.4305 - val_loss: 513802.8750 - val_mae: 543.1418\n",
      "Epoch 14/50\n",
      "1109/1109 [==============================] - 23s 20ms/step - loss: 450260.5625 - mae: 515.6182 - val_loss: 468333.0000 - val_mae: 474.9120\n",
      "Epoch 15/50\n",
      "1109/1109 [==============================] - 23s 20ms/step - loss: 418948.3125 - mae: 476.7631 - val_loss: 465705.6875 - val_mae: 468.1084\n",
      "Epoch 16/50\n",
      "1109/1109 [==============================] - 23s 20ms/step - loss: 360688.7812 - mae: 457.1010 - val_loss: 318882.7812 - val_mae: 437.1241\n",
      "Epoch 17/50\n",
      "1109/1109 [==============================] - 23s 20ms/step - loss: 297990.5938 - mae: 417.6203 - val_loss: 274270.5938 - val_mae: 390.3629\n",
      "Epoch 18/50\n",
      "1109/1109 [==============================] - 23s 20ms/step - loss: 254508.9844 - mae: 379.6583 - val_loss: 260485.3281 - val_mae: 365.8391\n",
      "Epoch 19/50\n",
      "1109/1109 [==============================] - 23s 20ms/step - loss: 199564.4375 - mae: 314.1544 - val_loss: 196308.7969 - val_mae: 312.8755\n",
      "Epoch 20/50\n",
      "1109/1109 [==============================] - 23s 20ms/step - loss: 176046.2969 - mae: 292.4354 - val_loss: 177852.2656 - val_mae: 305.9447\n",
      "Epoch 21/50\n",
      "1109/1109 [==============================] - 23s 20ms/step - loss: 163396.6250 - mae: 278.6891 - val_loss: 163033.7031 - val_mae: 296.6742\n",
      "Epoch 22/50\n",
      "1109/1109 [==============================] - 23s 20ms/step - loss: 152849.6719 - mae: 266.7396 - val_loss: 124530.4375 - val_mae: 259.7534\n",
      "Epoch 23/50\n",
      "1109/1109 [==============================] - 22s 20ms/step - loss: 130178.4062 - mae: 231.9610 - val_loss: 86742.4688 - val_mae: 223.6811\n",
      "Epoch 24/50\n",
      "1109/1109 [==============================] - 23s 20ms/step - loss: 119152.0391 - mae: 211.2150 - val_loss: 75700.8594 - val_mae: 202.4546\n",
      "Epoch 25/50\n",
      "1109/1109 [==============================] - 23s 20ms/step - loss: 115489.4062 - mae: 202.2220 - val_loss: 69610.3125 - val_mae: 191.2425\n",
      "Epoch 26/50\n",
      "1109/1109 [==============================] - 23s 20ms/step - loss: 113434.5312 - mae: 196.4477 - val_loss: 68894.6328 - val_mae: 190.5982\n",
      "Epoch 27/50\n",
      "1109/1109 [==============================] - 23s 20ms/step - loss: 112423.0703 - mae: 192.7587 - val_loss: 70352.5078 - val_mae: 195.4192\n",
      "Epoch 28/50\n",
      "1109/1109 [==============================] - 23s 20ms/step - loss: 111103.3516 - mae: 189.8990 - val_loss: 67742.2656 - val_mae: 190.4649\n",
      "Epoch 29/50\n",
      "1109/1109 [==============================] - 23s 20ms/step - loss: 109891.3750 - mae: 188.0045 - val_loss: 69389.7578 - val_mae: 189.0678\n",
      "Epoch 30/50\n",
      "1109/1109 [==============================] - 23s 20ms/step - loss: 107938.8281 - mae: 187.9131 - val_loss: 66818.2734 - val_mae: 185.5471\n",
      "Epoch 31/50\n",
      "1109/1109 [==============================] - 23s 20ms/step - loss: 105557.0625 - mae: 187.5579 - val_loss: 58308.3672 - val_mae: 169.5862\n",
      "Epoch 32/50\n",
      "1109/1109 [==============================] - 23s 20ms/step - loss: 101152.6016 - mae: 186.8135 - val_loss: 63556.8281 - val_mae: 178.8673\n",
      "Epoch 33/50\n",
      "1109/1109 [==============================] - 23s 20ms/step - loss: 78015.6797 - mae: 174.7410 - val_loss: 67184.4922 - val_mae: 186.0674\n",
      "Epoch 34/50\n",
      "1109/1109 [==============================] - 23s 20ms/step - loss: 58800.5000 - mae: 157.3286 - val_loss: 57733.1562 - val_mae: 166.7622\n",
      "Epoch 35/50\n",
      "1109/1109 [==============================] - 23s 20ms/step - loss: 55177.2031 - mae: 153.2097 - val_loss: 63796.7695 - val_mae: 184.0082\n",
      "Epoch 36/50\n",
      "1109/1109 [==============================] - 23s 20ms/step - loss: 52567.9219 - mae: 150.0029 - val_loss: 54246.0195 - val_mae: 162.2909\n",
      "Epoch 37/50\n",
      "1109/1109 [==============================] - 23s 21ms/step - loss: 51230.3438 - mae: 148.0216 - val_loss: 56094.3945 - val_mae: 167.6027\n",
      "Epoch 38/50\n",
      "1109/1109 [==============================] - 23s 20ms/step - loss: 49996.0781 - mae: 146.0311 - val_loss: 61058.3242 - val_mae: 179.2824\n",
      "Epoch 39/50\n",
      "1109/1109 [==============================] - 23s 20ms/step - loss: 48917.9883 - mae: 144.7663 - val_loss: 57659.4531 - val_mae: 171.0841\n",
      "Epoch 40/50\n",
      "1109/1109 [==============================] - 23s 20ms/step - loss: 48254.6094 - mae: 143.1464 - val_loss: 56544.3750 - val_mae: 168.0846\n",
      "Epoch 41/50\n",
      "1109/1109 [==============================] - 23s 20ms/step - loss: 47762.7930 - mae: 142.8535 - val_loss: 55598.6328 - val_mae: 162.5180\n",
      "Epoch 42/50\n",
      "1109/1109 [==============================] - 23s 20ms/step - loss: 47058.0273 - mae: 141.9933 - val_loss: 54467.8398 - val_mae: 164.3733\n",
      "Epoch 43/50\n",
      "1109/1109 [==============================] - 23s 20ms/step - loss: 46398.6328 - mae: 140.6628 - val_loss: 58809.3477 - val_mae: 173.8994\n",
      "Epoch 44/50\n",
      "1109/1109 [==============================] - 23s 20ms/step - loss: 46267.8945 - mae: 139.8328 - val_loss: 56273.5469 - val_mae: 169.9447\n",
      "Epoch 45/50\n",
      "1109/1109 [==============================] - 23s 20ms/step - loss: 46019.0000 - mae: 139.7905 - val_loss: 54017.9922 - val_mae: 163.5747\n",
      "Epoch 46/50\n",
      "1109/1109 [==============================] - 23s 20ms/step - loss: 45616.5664 - mae: 138.7917 - val_loss: 53143.8750 - val_mae: 163.7623\n",
      "Epoch 47/50\n",
      "1109/1109 [==============================] - 23s 20ms/step - loss: 45443.6367 - mae: 138.5839 - val_loss: 59464.0078 - val_mae: 176.6350\n",
      "Epoch 48/50\n",
      "1109/1109 [==============================] - 23s 20ms/step - loss: 45081.8789 - mae: 137.7233 - val_loss: 52141.2656 - val_mae: 161.0289\n",
      "Epoch 49/50\n",
      "1109/1109 [==============================] - 23s 20ms/step - loss: 44925.0625 - mae: 137.3861 - val_loss: 56654.9805 - val_mae: 169.3207\n",
      "Epoch 50/50\n",
      "1109/1109 [==============================] - 23s 21ms/step - loss: 44855.9805 - mae: 137.5741 - val_loss: 53356.9492 - val_mae: 162.3969\n"
     ]
    }
   ],
   "source": [
    "model.compile(optimizer='adam', loss='mse', metrics=['mae'])\n",
    "\n",
    "history = model.fit(train_sequences, validation_data=test_sequences, epochs=50, verbose=1)"
   ]
  },
  {
   "cell_type": "code",
   "execution_count": 151,
   "metadata": {},
   "outputs": [
    {
     "data": {
      "image/png": "[encoded data removed]",
      "text/plain": [
       "<Figure size 432x288 with 1 Axes>"
      ]
     },
     "metadata": {
      "needs_background": "light"
     },
     "output_type": "display_data"
    }
   ],
   "source": [
    "plt.plot(history.history['loss'], label='Train MSE')\n",
    "plt.plot(history.history['val_loss'], label='Test MSE')\n",
    "plt.legend();"
   ]
  },
  {
   "cell_type": "code",
   "execution_count": 152,
   "metadata": {},
   "outputs": [
    {
     "data": {
      "image/png": "[encoded data removed]",
      "text/plain": [
       "<Figure size 432x288 with 1 Axes>"
      ]
     },
     "metadata": {
      "needs_background": "light"
     },
     "output_type": "display_data"
    }
   ],
   "source": [
    "plt.plot(history.history['mae'], label='Train MAE')\n",
    "plt.plot(history.history['val_mae'], label='Test MAE')\n",
    "plt.legend();"
   ]
  },
  {
   "cell_type": "code",
   "execution_count": 157,
   "metadata": {},
   "outputs": [
    {
     "name": "stdout",
     "output_type": "stream",
     "text": [
      "Epoch 1/100\n",
      "1109/1109 [==============================] - 25s 20ms/step - loss: 8165819.5000 - mae: 2677.0322 - val_loss: 7102899.0000 - val_mae: 2455.9678\n",
      "Epoch 2/100\n",
      "1109/1109 [==============================] - 22s 20ms/step - loss: 7882709.5000 - mae: 2623.5376 - val_loss: 6748046.0000 - val_mae: 2382.6484\n",
      "Epoch 3/100\n",
      "1109/1109 [==============================] - 22s 20ms/step - loss: 7420130.5000 - mae: 2533.7458 - val_loss: 6258915.5000 - val_mae: 2277.7759\n",
      "Epoch 4/100\n",
      "1109/1109 [==============================] - 22s 20ms/step - loss: 6835987.5000 - mae: 2415.5471 - val_loss: 5680920.5000 - val_mae: 2147.3313\n",
      "Epoch 5/100\n",
      "1109/1109 [==============================] - 22s 20ms/step - loss: 6169835.0000 - mae: 2273.6130 - val_loss: 5046159.0000 - val_mae: 1994.4614\n",
      "Epoch 6/100\n",
      "1109/1109 [==============================] - 22s 20ms/step - loss: 5451994.5000 - mae: 2110.5571 - val_loss: 4382141.0000 - val_mae: 1821.2520\n",
      "Epoch 7/100\n",
      "1109/1109 [==============================] - 22s 20ms/step - loss: 4713559.5000 - mae: 1927.7354 - val_loss: 3720596.0000 - val_mae: 1631.3960\n",
      "Epoch 8/100\n",
      "1109/1109 [==============================] - 22s 20ms/step - loss: 3981752.0000 - mae: 1729.3816 - val_loss: 3084712.0000 - val_mae: 1427.6758\n",
      "Epoch 9/100\n",
      "1109/1109 [==============================] - 22s 20ms/step - loss: 3283000.0000 - mae: 1519.7355 - val_loss: 2501496.5000 - val_mae: 1221.0205\n",
      "Epoch 10/100\n",
      "1109/1109 [==============================] - 22s 20ms/step - loss: 2645468.7500 - mae: 1317.6368 - val_loss: 1997582.3750 - val_mae: 1050.3342\n",
      "Epoch 11/100\n",
      "1109/1109 [==============================] - 22s 20ms/step - loss: 2094108.0000 - mae: 1151.6240 - val_loss: 1593470.5000 - val_mae: 929.3018\n",
      "Epoch 12/100\n",
      "1109/1109 [==============================] - 22s 20ms/step - loss: 1650963.5000 - mae: 1011.8502 - val_loss: 1305530.2500 - val_mae: 870.2855\n",
      "Epoch 13/100\n",
      "1109/1109 [==============================] - 22s 20ms/step - loss: 1329173.6250 - mae: 904.9713 - val_loss: 1137428.8750 - val_mae: 877.1475\n",
      "Epoch 14/100\n",
      "1109/1109 [==============================] - 22s 20ms/step - loss: 1130160.6250 - mae: 858.2077 - val_loss: 1074991.8750 - val_mae: 901.3198\n",
      "Epoch 15/100\n",
      "1109/1109 [==============================] - 22s 20ms/step - loss: 1035830.2500 - mae: 851.8099 - val_loss: 1077742.6250 - val_mae: 921.2759\n",
      "Epoch 16/100\n",
      "1109/1109 [==============================] - 22s 20ms/step - loss: 1005543.9375 - mae: 854.8050 - val_loss: 1096620.0000 - val_mae: 932.6468\n",
      "Epoch 17/100\n",
      "1109/1109 [==============================] - 22s 20ms/step - loss: 999888.0625 - mae: 857.3119 - val_loss: 1105613.0000 - val_mae: 936.6838\n",
      "Epoch 18/100\n",
      "1109/1109 [==============================] - 22s 20ms/step - loss: 981621.1250 - mae: 844.6137 - val_loss: 969067.8750 - val_mae: 860.4280\n",
      "Epoch 19/100\n",
      "1109/1109 [==============================] - 22s 20ms/step - loss: 795222.0625 - mae: 731.0881 - val_loss: 721152.0625 - val_mae: 697.2990\n",
      "Epoch 20/100\n",
      "1109/1109 [==============================] - 22s 20ms/step - loss: 630372.0625 - mae: 631.3626 - val_loss: 599959.3125 - val_mae: 607.2472\n",
      "Epoch 21/100\n",
      "1109/1109 [==============================] - 22s 20ms/step - loss: 526830.8750 - mae: 579.9434 - val_loss: 515278.0625 - val_mae: 543.8997\n",
      "Epoch 22/100\n",
      "1109/1109 [==============================] - 22s 20ms/step - loss: 458015.6250 - mae: 529.4238 - val_loss: 477163.4062 - val_mae: 493.6747\n",
      "Epoch 23/100\n",
      "1109/1109 [==============================] - 22s 20ms/step - loss: 428086.9688 - mae: 493.5777 - val_loss: 472054.0000 - val_mae: 480.3240\n",
      "Epoch 24/100\n",
      "1109/1109 [==============================] - 22s 20ms/step - loss: 419234.7188 - mae: 481.1013 - val_loss: 468637.6562 - val_mae: 470.8041\n",
      "Epoch 25/100\n",
      "1109/1109 [==============================] - 22s 20ms/step - loss: 415253.9062 - mae: 473.7153 - val_loss: 470437.4688 - val_mae: 477.5259\n",
      "Epoch 26/100\n",
      "1109/1109 [==============================] - 22s 20ms/step - loss: 413135.9062 - mae: 471.7627 - val_loss: 462312.4688 - val_mae: 471.4348\n",
      "Epoch 27/100\n",
      "1109/1109 [==============================] - 22s 20ms/step - loss: 404960.4688 - mae: 474.3100 - val_loss: 438049.9375 - val_mae: 479.2708\n",
      "Epoch 28/100\n",
      "1109/1109 [==============================] - 22s 20ms/step - loss: 368102.9375 - mae: 466.5032 - val_loss: 348852.7188 - val_mae: 439.7257\n",
      "Epoch 29/100\n",
      "1109/1109 [==============================] - 22s 20ms/step - loss: 312856.0938 - mae: 436.5207 - val_loss: 297084.8438 - val_mae: 412.8410\n",
      "Epoch 30/100\n",
      "1109/1109 [==============================] - 22s 20ms/step - loss: 272572.1562 - mae: 402.9652 - val_loss: 276205.2500 - val_mae: 394.2711\n",
      "Epoch 31/100\n",
      "1109/1109 [==============================] - 22s 20ms/step - loss: 241890.5625 - mae: 364.5678 - val_loss: 229981.1562 - val_mae: 331.5863\n",
      "Epoch 32/100\n",
      "1109/1109 [==============================] - 22s 20ms/step - loss: 181102.3906 - mae: 299.1677 - val_loss: 132332.3281 - val_mae: 277.0800\n",
      "Epoch 33/100\n",
      "1109/1109 [==============================] - 22s 20ms/step - loss: 145765.9688 - mae: 261.4805 - val_loss: 108139.3906 - val_mae: 246.2417\n",
      "Epoch 34/100\n",
      "1109/1109 [==============================] - 22s 20ms/step - loss: 134414.1562 - mae: 242.7621 - val_loss: 91589.9297 - val_mae: 224.0145\n",
      "Epoch 35/100\n",
      "1109/1109 [==============================] - 22s 20ms/step - loss: 127434.7969 - mae: 229.3355 - val_loss: 89399.1953 - val_mae: 226.3472\n",
      "Epoch 36/100\n",
      "1109/1109 [==============================] - 22s 20ms/step - loss: 119832.4766 - mae: 215.7380 - val_loss: 81157.1719 - val_mae: 209.5736\n",
      "Epoch 37/100\n",
      "1109/1109 [==============================] - 22s 20ms/step - loss: 111784.1328 - mae: 210.3788 - val_loss: 77092.0859 - val_mae: 202.9743\n",
      "Epoch 38/100\n",
      "1109/1109 [==============================] - 22s 20ms/step - loss: 74664.3672 - mae: 182.6605 - val_loss: 77833.4297 - val_mae: 202.3786\n",
      "Epoch 39/100\n",
      "1109/1109 [==============================] - 22s 20ms/step - loss: 65150.9492 - mae: 166.5267 - val_loss: 73197.6328 - val_mae: 194.3517\n",
      "Epoch 40/100\n",
      "1109/1109 [==============================] - 22s 20ms/step - loss: 61755.2930 - mae: 160.5592 - val_loss: 70254.9219 - val_mae: 188.2139\n",
      "Epoch 41/100\n",
      "1109/1109 [==============================] - 22s 20ms/step - loss: 58983.3594 - mae: 156.9071 - val_loss: 69246.1016 - val_mae: 187.8870\n",
      "Epoch 42/100\n",
      "1109/1109 [==============================] - 22s 20ms/step - loss: 57485.9609 - mae: 154.5131 - val_loss: 67402.3125 - val_mae: 185.8284\n",
      "Epoch 43/100\n",
      "1109/1109 [==============================] - 22s 20ms/step - loss: 55477.6523 - mae: 151.6883 - val_loss: 67538.2734 - val_mae: 190.0787\n",
      "Epoch 44/100\n",
      "1109/1109 [==============================] - 22s 20ms/step - loss: 54756.7773 - mae: 149.9280 - val_loss: 67099.3984 - val_mae: 187.9106\n",
      "Epoch 45/100\n",
      "1109/1109 [==============================] - 22s 20ms/step - loss: 53612.4570 - mae: 148.9643 - val_loss: 66321.0781 - val_mae: 183.9503\n",
      "Epoch 46/100\n",
      "1109/1109 [==============================] - 22s 20ms/step - loss: 52761.6953 - mae: 147.3121 - val_loss: 63596.5742 - val_mae: 179.2748\n",
      "Epoch 47/100\n",
      "1109/1109 [==============================] - 22s 20ms/step - loss: 52375.4023 - mae: 146.7857 - val_loss: 64444.6094 - val_mae: 181.5697\n",
      "Epoch 48/100\n",
      "1109/1109 [==============================] - 22s 20ms/step - loss: 51723.5117 - mae: 145.4922 - val_loss: 57710.0586 - val_mae: 169.0337\n",
      "Epoch 49/100\n",
      "1109/1109 [==============================] - 22s 20ms/step - loss: 51302.6445 - mae: 145.5007 - val_loss: 60256.7695 - val_mae: 173.3708\n",
      "Epoch 50/100\n",
      "1109/1109 [==============================] - 22s 20ms/step - loss: 50979.2852 - mae: 144.8233 - val_loss: 58867.8008 - val_mae: 172.8747\n",
      "Epoch 51/100\n",
      "1109/1109 [==============================] - 22s 20ms/step - loss: 51062.6797 - mae: 144.6746 - val_loss: 57680.1992 - val_mae: 169.2784\n",
      "Epoch 52/100\n",
      "1109/1109 [==============================] - 22s 20ms/step - loss: 50772.2070 - mae: 144.4581 - val_loss: 57346.2500 - val_mae: 169.3859\n",
      "Epoch 53/100\n",
      "1109/1109 [==============================] - 22s 20ms/step - loss: 49603.8008 - mae: 143.2497 - val_loss: 65040.5977 - val_mae: 184.3412\n",
      "Epoch 54/100\n",
      "1109/1109 [==============================] - 22s 20ms/step - loss: 49097.2031 - mae: 142.7574 - val_loss: 64831.8789 - val_mae: 185.7435\n",
      "Epoch 55/100\n",
      "1109/1109 [==============================] - 22s 20ms/step - loss: 48666.6523 - mae: 141.8674 - val_loss: 59503.3633 - val_mae: 173.2000\n",
      "Epoch 56/100\n",
      "1109/1109 [==============================] - 22s 20ms/step - loss: 48464.0703 - mae: 142.3280 - val_loss: 59594.3203 - val_mae: 175.9070\n",
      "Epoch 57/100\n",
      "1109/1109 [==============================] - 22s 20ms/step - loss: 48005.2617 - mae: 141.7037 - val_loss: 60737.5117 - val_mae: 176.0367\n"
     ]
    }
   ],
   "source": [
    "# Add early stopping\n",
    "from tensorflow.keras.callbacks import EarlyStopping\n",
    "\n",
    "model2 = Sequential()\n",
    "model2.add(GRU(8, input_shape=input_shape, return_sequences=True)) # True if next layer is RNN\n",
    "model2.add(GRU(8, return_sequences=False)) # False if next layer is Dense\n",
    "\n",
    "model2.add(Dense(4, activation='relu'))\n",
    "\n",
    "model2.add(Dense(1))\n",
    "\n",
    "model2.compile(optimizer='adam', loss='mse', metrics=['mae'])\n",
    "\n",
    "es = EarlyStopping(patience = 5)\n",
    "\n",
    "history2 = model2.fit(train_sequences, validation_data=test_sequences, epochs=100, batch_size = 64, callbacks = [es])"
   ]
  },
  {
   "cell_type": "code",
   "execution_count": 161,
   "metadata": {},
   "outputs": [
    {
     "data": {
      "image/png": "[encoded data removed]",
      "text/plain": [
       "<Figure size 432x288 with 1 Axes>"
      ]
     },
     "metadata": {
      "needs_background": "light"
     },
     "output_type": "display_data"
    }
   ],
   "source": [
    "plt.plot(history2.history['loss'], label='Train loss')\n",
    "plt.plot(history2.history['val_loss'], label='Test loss')\n",
    "plt.plot(history.history['loss'], label='Original Train loss')\n",
    "plt.plot(history.history['val_loss'], label='Original Test loss')\n",
    "plt.legend();"
   ]
  }
 ],
 "metadata": {
  "kernelspec": {
   "display_name": "Python 3",
   "language": "python",
   "name": "python3"
  },
  "language_info": {
   "codemirror_mode": {
    "name": "ipython",
    "version": 3
   },
   "file_extension": ".py",
   "mimetype": "text/x-python",
   "name": "python",
   "nbconvert_exporter": "python",
   "pygments_lexer": "ipython3",
   "version": "3.8.8"
  }
 },
 "nbformat": 4,
 "nbformat_minor": 4
}
