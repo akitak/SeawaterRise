{
 "cells": [
  {
   "cell_type": "code",
   "execution_count": 1,
   "metadata": {},
   "outputs": [],
   "source": [
    "# Imports\n",
<<<<<<< HEAD
    "import pandas as pd"
=======
    "import pandas as pd\n",
    "import numpy as np"
>>>>>>> 122218a2db8de55cc783eb1b1f7c32a89cef1123
   ]
  },
  {
   "cell_type": "code",
   "execution_count": null,
   "metadata": {},
   "outputs": [],
   "source": []
  }
 ],
 "metadata": {
  "kernelspec": {
   "display_name": "Python 3",
   "language": "python",
   "name": "python3"
  },
  "language_info": {
   "codemirror_mode": {
    "name": "ipython",
    "version": 3
   },
   "file_extension": ".py",
   "mimetype": "text/x-python",
   "name": "python",
   "nbconvert_exporter": "python",
   "pygments_lexer": "ipython3",
<<<<<<< HEAD
   "version": "3.8.5"
=======
   "version": "3.8.8"
>>>>>>> 122218a2db8de55cc783eb1b1f7c32a89cef1123
  }
 },
 "nbformat": 4,
 "nbformat_minor": 4
}
