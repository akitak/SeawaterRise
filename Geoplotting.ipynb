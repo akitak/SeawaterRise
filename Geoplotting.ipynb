{
 "cells": [
  {
   "cell_type": "code",
   "execution_count": 1,
   "id": "99e99d19-fe6c-4977-bfaa-28b708c9d4fd",
   "metadata": {},
   "outputs": [],
   "source": [
    "import geoplot as gplt\n",
    "import geopandas as gpd\n",
    "import geoplot.crs as gcrs\n",
    "import imageio"
   ]
  },
  {
   "cell_type": "code",
   "execution_count": 2,
   "id": "26723ed6-fc92-4b4f-a2e0-2234a2b76fe6",
   "metadata": {},
   "outputs": [],
   "source": [
    "import pandas as pd\n",
    "import pathlib\n",
    "import matplotlib.pyplot as plt\n",
    "import mapclassify as mc\n",
    "import numpy as np"
   ]
  },
  {
   "cell_type": "code",
   "execution_count": 3,
   "id": "9591c4ae-82d8-4bd2-82a0-60408b89602d",
   "metadata": {},
   "outputs": [],
   "source": [
    "states = gpd.read_file('./data/tl_2020_us_state/tl_2020_us_state.shp')"
   ]
  },
  {
   "cell_type": "code",
   "execution_count": 4,
   "id": "37cb58cc-546a-4070-8033-f41415ecda7f",
   "metadata": {},
   "outputs": [],
   "source": [
    "alaska = states[states['NAME'] == 'Alaska']"
   ]
  },
  {
   "cell_type": "code",
   "execution_count": 5,
   "id": "a312c364-e0e9-47c0-ad80-ac37dfd10e18",
   "metadata": {},
   "outputs": [
    {
     "data": {
      "text/html": [
       "<div>\n",
       "<style scoped>\n",
       "    .dataframe tbody tr th:only-of-type {\n",
       "        vertical-align: middle;\n",
       "    }\n",
       "\n",
       "    .dataframe tbody tr th {\n",
       "        vertical-align: top;\n",
       "    }\n",
       "\n",
       "    .dataframe thead th {\n",
       "        text-align: right;\n",
       "    }\n",
       "</style>\n",
       "<table border=\"1\" class=\"dataframe\">\n",
       "  <thead>\n",
       "    <tr style=\"text-align: right;\">\n",
       "      <th></th>\n",
       "      <th>REGION</th>\n",
       "      <th>DIVISION</th>\n",
       "      <th>STATEFP</th>\n",
       "      <th>STATENS</th>\n",
       "      <th>GEOID</th>\n",
       "      <th>STUSPS</th>\n",
       "      <th>NAME</th>\n",
       "      <th>LSAD</th>\n",
       "      <th>MTFCC</th>\n",
       "      <th>FUNCSTAT</th>\n",
       "      <th>ALAND</th>\n",
       "      <th>AWATER</th>\n",
       "      <th>INTPTLAT</th>\n",
       "      <th>INTPTLON</th>\n",
       "      <th>geometry</th>\n",
       "    </tr>\n",
       "  </thead>\n",
       "  <tbody>\n",
       "    <tr>\n",
       "      <th>40</th>\n",
       "      <td>4</td>\n",
       "      <td>9</td>\n",
       "      <td>02</td>\n",
       "      <td>01785533</td>\n",
       "      <td>02</td>\n",
       "      <td>AK</td>\n",
       "      <td>Alaska</td>\n",
       "      <td>00</td>\n",
       "      <td>G4000</td>\n",
       "      <td>A</td>\n",
       "      <td>1478941109938</td>\n",
       "      <td>245380162784</td>\n",
       "      <td>+63.3473560</td>\n",
       "      <td>-152.8397334</td>\n",
       "      <td>MULTIPOLYGON (((-165.25416 60.91711, -165.2630...</td>\n",
       "    </tr>\n",
       "  </tbody>\n",
       "</table>\n",
       "</div>"
      ],
      "text/plain": [
       "   REGION DIVISION STATEFP   STATENS GEOID STUSPS    NAME LSAD  MTFCC  \\\n",
       "40      4        9      02  01785533    02     AK  Alaska   00  G4000   \n",
       "\n",
       "   FUNCSTAT          ALAND        AWATER     INTPTLAT      INTPTLON  \\\n",
       "40        A  1478941109938  245380162784  +63.3473560  -152.8397334   \n",
       "\n",
       "                                             geometry  \n",
       "40  MULTIPOLYGON (((-165.25416 60.91711, -165.2630...  "
      ]
     },
     "execution_count": 5,
     "metadata": {},
     "output_type": "execute_result"
    }
   ],
   "source": [
    "alaska"
   ]
  },
  {
   "cell_type": "code",
   "execution_count": null,
   "id": "3d016bfb-564c-4b9e-8450-f52266b1be9a",
   "metadata": {},
   "outputs": [],
   "source": [
    "minx, miny, maxx, maxy = alaska.total_bounds"
   ]
  },
  {
   "cell_type": "code",
   "execution_count": 8,
   "id": "4544698d-bf9a-46ee-8134-3aa403e5076d",
   "metadata": {},
   "outputs": [
    {
     "data": {
      "text/plain": [
       "(48.0, 75.0)"
      ]
     },
     "execution_count": 8,
     "metadata": {},
     "output_type": "execute_result"
    },
    {
     "data": {
      "image/png": "[encoded data removed]",
      "text/plain": [
       "<Figure size 576x432 with 1 Axes>"
      ]
     },
     "metadata": {
      "needs_background": "light"
     },
     "output_type": "display_data"
    }
   ],
   "source": [
    "ax = gplt.polyplot(alaska)\n",
    "ax.set_xlim(-182, -127)\n",
    "ax.set_ylim(48, 75)"
   ]
  },
  {
   "cell_type": "code",
   "execution_count": 9,
   "id": "716f5743-a81f-40bf-92c7-9e1b34f45cfb",
   "metadata": {},
   "outputs": [],
   "source": [
    "import pandas as pd\n",
    "df = pd.read_csv('./Clean_dataframe/clean_df.csv')"
   ]
  },
  {
   "cell_type": "code",
   "execution_count": 17,
   "id": "18cdbaa2-baed-49dd-b9fd-f55eee7480e3",
   "metadata": {},
   "outputs": [],
   "source": [
    "dutch = [53.895, -166.5433]\n",
    "ketch = [55.35956, -131.72074]\n",
    "kodiak = [57.7511, -152.4855]\n",
    "nome = [64.5111,-165.44]\n",
    "seward = [60.12833, -149.41667]\n",
    "sitka = [57.0481,-135.3647]\n",
    "yakutat = [59.512, -139.6712] \n",
    "barrow = [71.323, -156.6114]"
   ]
  },
  {
   "cell_type": "code",
   "execution_count": 19,
   "id": "dd799fc9-4bfe-4a9c-9516-ab6731fa43a8",
   "metadata": {},
   "outputs": [],
   "source": [
    "coords = [dutch, ketch, kodiak, nome, seward, sitka, yakutat, barrow]"
   ]
  },
  {
   "cell_type": "code",
   "execution_count": 20,
   "id": "6cfbcaa9-390a-42cf-a7e2-bdbd8005dd53",
   "metadata": {},
   "outputs": [],
   "source": [
    "plots = pd.DataFrame(coords, columns = ['latitude', 'longitude'])"
   ]
  },
  {
   "cell_type": "code",
   "execution_count": 21,
   "id": "57fd9c2f-79f9-4240-b550-760fccc07106",
   "metadata": {},
   "outputs": [],
   "source": [
    "plots_gdf = gpd.GeoDataFrame(plots, geometry = gpd.points_from_xy(plots.longitude, plots.latitude))"
   ]
  },
  {
   "cell_type": "code",
   "execution_count": 22,
   "id": "c5a8279d-6716-469b-af94-910284d2deb5",
   "metadata": {},
   "outputs": [
    {
     "data": {
      "text/html": [
       "<div>\n",
       "<style scoped>\n",
       "    .dataframe tbody tr th:only-of-type {\n",
       "        vertical-align: middle;\n",
       "    }\n",
       "\n",
       "    .dataframe tbody tr th {\n",
       "        vertical-align: top;\n",
       "    }\n",
       "\n",
       "    .dataframe thead th {\n",
       "        text-align: right;\n",
       "    }\n",
       "</style>\n",
       "<table border=\"1\" class=\"dataframe\">\n",
       "  <thead>\n",
       "    <tr style=\"text-align: right;\">\n",
       "      <th></th>\n",
       "      <th>latitude</th>\n",
       "      <th>longitude</th>\n",
       "      <th>geometry</th>\n",
       "    </tr>\n",
       "  </thead>\n",
       "  <tbody>\n",
       "    <tr>\n",
       "      <th>0</th>\n",
       "      <td>53.89500</td>\n",
       "      <td>-166.54330</td>\n",
       "      <td>POINT (-166.54330 53.89500)</td>\n",
       "    </tr>\n",
       "    <tr>\n",
       "      <th>1</th>\n",
       "      <td>55.35956</td>\n",
       "      <td>-131.72074</td>\n",
       "      <td>POINT (-131.72074 55.35956)</td>\n",
       "    </tr>\n",
       "    <tr>\n",
       "      <th>2</th>\n",
       "      <td>57.75110</td>\n",
       "      <td>-152.48550</td>\n",
       "      <td>POINT (-152.48550 57.75110)</td>\n",
       "    </tr>\n",
       "    <tr>\n",
       "      <th>3</th>\n",
       "      <td>64.51110</td>\n",
       "      <td>-165.44000</td>\n",
       "      <td>POINT (-165.44000 64.51110)</td>\n",
       "    </tr>\n",
       "    <tr>\n",
       "      <th>4</th>\n",
       "      <td>60.12833</td>\n",
       "      <td>-149.41667</td>\n",
       "      <td>POINT (-149.41667 60.12833)</td>\n",
       "    </tr>\n",
       "    <tr>\n",
       "      <th>5</th>\n",
       "      <td>57.04810</td>\n",
       "      <td>-135.36470</td>\n",
       "      <td>POINT (-135.36470 57.04810)</td>\n",
       "    </tr>\n",
       "    <tr>\n",
       "      <th>6</th>\n",
       "      <td>59.51200</td>\n",
       "      <td>-139.67120</td>\n",
       "      <td>POINT (-139.67120 59.51200)</td>\n",
       "    </tr>\n",
       "    <tr>\n",
       "      <th>7</th>\n",
       "      <td>71.32300</td>\n",
       "      <td>-156.61140</td>\n",
       "      <td>POINT (-156.61140 71.32300)</td>\n",
       "    </tr>\n",
       "  </tbody>\n",
       "</table>\n",
       "</div>"
      ],
      "text/plain": [
       "   latitude  longitude                     geometry\n",
       "0  53.89500 -166.54330  POINT (-166.54330 53.89500)\n",
       "1  55.35956 -131.72074  POINT (-131.72074 55.35956)\n",
       "2  57.75110 -152.48550  POINT (-152.48550 57.75110)\n",
       "3  64.51110 -165.44000  POINT (-165.44000 64.51110)\n",
       "4  60.12833 -149.41667  POINT (-149.41667 60.12833)\n",
       "5  57.04810 -135.36470  POINT (-135.36470 57.04810)\n",
       "6  59.51200 -139.67120  POINT (-139.67120 59.51200)\n",
       "7  71.32300 -156.61140  POINT (-156.61140 71.32300)"
      ]
     },
     "execution_count": 22,
     "metadata": {},
     "output_type": "execute_result"
    }
   ],
   "source": [
    "plots_gdf"
   ]
  },
  {
   "cell_type": "code",
   "execution_count": 23,
   "id": "88d65f2a-45f0-4a7c-ae72-9ecde7bc7b7f",
   "metadata": {},
   "outputs": [],
   "source": [
    "plots_gdf.to_csv('./data/station_points.csv')"
   ]
  },
  {
   "cell_type": "code",
   "execution_count": 15,
   "id": "aefd5e55-7e87-42d4-ab7e-18f7016ad565",
   "metadata": {},
   "outputs": [
    {
     "data": {
      "text/plain": [
       "(48.0, 75.0)"
      ]
     },
     "execution_count": 15,
     "metadata": {},
     "output_type": "execute_result"
    },
    {
     "data": {
      "image/png": "[encoded data removed]",
      "text/plain": [
       "<Figure size 576x432 with 2 Axes>"
      ]
     },
     "metadata": {
      "needs_background": "light"
     },
     "output_type": "display_data"
    }
   ],
   "source": [
    "ax = gplt.polyplot(alaska)\n",
    "gplt.pointplot(plots_gdf, ax = ax, hue = plots_gdf.index, cmap = 'brg',legend = True)\n",
    "ax.set_xlim(-182, -127)\n",
    "ax.set_ylim(48, 75)"
   ]
  },
  {
   "cell_type": "code",
   "execution_count": 24,
   "id": "efe1ee84-e075-4be0-a598-f58406c5b702",
   "metadata": {},
   "outputs": [],
   "source": [
    "usa_cities = gpd.read_file(gplt.datasets.get_path('usa_cities'))"
   ]
  },
  {
   "cell_type": "code",
   "execution_count": 28,
   "id": "9c0a73a0-b29b-4e41-b9e0-0526126dc773",
   "metadata": {},
   "outputs": [],
   "source": [
    "alaska = usa_cities.query('STATE in [\"AK\"]')"
   ]
  },
  {
   "cell_type": "code",
   "execution_count": 29,
   "id": "e6d06316-6f7d-47ee-9c2e-86422d87562e",
   "metadata": {},
   "outputs": [
    {
     "data": {
      "text/html": [
       "<div>\n",
       "<style scoped>\n",
       "    .dataframe tbody tr th:only-of-type {\n",
       "        vertical-align: middle;\n",
       "    }\n",
       "\n",
       "    .dataframe tbody tr th {\n",
       "        vertical-align: top;\n",
       "    }\n",
       "\n",
       "    .dataframe thead th {\n",
       "        text-align: right;\n",
       "    }\n",
       "</style>\n",
       "<table border=\"1\" class=\"dataframe\">\n",
       "  <thead>\n",
       "    <tr style=\"text-align: right;\">\n",
       "      <th></th>\n",
       "      <th>id</th>\n",
       "      <th>POP_2010</th>\n",
       "      <th>ELEV_IN_FT</th>\n",
       "      <th>STATE</th>\n",
       "      <th>geometry</th>\n",
       "    </tr>\n",
       "  </thead>\n",
       "  <tbody>\n",
       "    <tr>\n",
       "      <th>3539</th>\n",
       "      <td>23307</td>\n",
       "      <td>31275.0</td>\n",
       "      <td>56.0</td>\n",
       "      <td>AK</td>\n",
       "      <td>POINT (-134.41972 58.30194)</td>\n",
       "    </tr>\n",
       "    <tr>\n",
       "      <th>3540</th>\n",
       "      <td>23386</td>\n",
       "      <td>291826.0</td>\n",
       "      <td>102.0</td>\n",
       "      <td>AK</td>\n",
       "      <td>POINT (-149.90028 61.21806)</td>\n",
       "    </tr>\n",
       "    <tr>\n",
       "      <th>3541</th>\n",
       "      <td>23463</td>\n",
       "      <td>12964.0</td>\n",
       "      <td>440.0</td>\n",
       "      <td>AK</td>\n",
       "      <td>POINT (-147.80278 64.85694)</td>\n",
       "    </tr>\n",
       "    <tr>\n",
       "      <th>3542</th>\n",
       "      <td>23464</td>\n",
       "      <td>31535.0</td>\n",
       "      <td>440.0</td>\n",
       "      <td>AK</td>\n",
       "      <td>POINT (-147.71639 64.83778)</td>\n",
       "    </tr>\n",
       "  </tbody>\n",
       "</table>\n",
       "</div>"
      ],
      "text/plain": [
       "         id  POP_2010  ELEV_IN_FT STATE                     geometry\n",
       "3539  23307   31275.0        56.0    AK  POINT (-134.41972 58.30194)\n",
       "3540  23386  291826.0       102.0    AK  POINT (-149.90028 61.21806)\n",
       "3541  23463   12964.0       440.0    AK  POINT (-147.80278 64.85694)\n",
       "3542  23464   31535.0       440.0    AK  POINT (-147.71639 64.83778)"
      ]
     },
     "execution_count": 29,
     "metadata": {},
     "output_type": "execute_result"
    }
   ],
   "source": [
    "alaska"
   ]
  },
  {
   "cell_type": "code",
   "execution_count": null,
   "id": "a05e249b-4198-4ed7-8134-0531d2071849",
   "metadata": {},
   "outputs": [],
   "source": []
  }
 ],
 "metadata": {
  "kernelspec": {
   "display_name": "geo_env",
   "language": "python",
   "name": "geo_env"
  },
  "language_info": {
   "codemirror_mode": {
    "name": "ipython",
    "version": 3
   },
   "file_extension": ".py",
   "mimetype": "text/x-python",
   "name": "python",
   "nbconvert_exporter": "python",
   "pygments_lexer": "ipython3",
   "version": "3.7.10"
  }
 },
 "nbformat": 4,
 "nbformat_minor": 5
}
