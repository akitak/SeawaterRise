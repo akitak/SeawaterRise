{
 "cells": [
  {
   "cell_type": "markdown",
   "id": "cccae0df-6562-439f-b054-95ef1dffd745",
   "metadata": {},
   "source": [
    "## Conclusion and Recommendations"
   ]
  },
  {
   "cell_type": "markdown",
   "id": "392de5aa-f9e2-4868-99a7-62b0111212ae",
   "metadata": {},
   "source": [
    "In this study, we looked to build a machine learning model that can accurately predict the sea level in the greater Alaskan coast given certain meteorological parameters. When building these models, we used the Root Mean Squared Error (RMSE) as an evaluation metric since it helps us compare the performance of our models predictions. Our baseline score was an RMSE of 443.97, which resulted from a multiple linear regression using all of our initial features. The Random Forest model ended up performing the best with an RMSE of 192.9, which is a marked improvement on our baseline by a ~2.3x. In addition to this, the Random Forest model had a R-squared score of 98.98% on the training data and a R-squared score of 96.39% on the testing data. Unsurprisingly, the R-squared score on the testing data was the highest among our different models. \n",
    "\n",
    "Random Forest models offer a level of interpretability over say black-box models like the recurrent neural network (RNN) model we trained, in addition to being more cost-effective and simpler in training. We are able to extract our feature importances form our Random Forest model and we found Elevation and Longitude to be the more important features in predicting the sea level in Alaska. In terms of interpretation, this makes sense in that the innate elevation of each weather station will play a large part in determing the sea level. Sea level is read using tide gauges which have a zero-reference for each given station, or rather a fixed base elevation at a tide station to which all water level measurements are referred. In conjunction with latitude, the geographic location of each tide station played the largest part in mapping its sea level. \n",
    "\n",
    "Climate change data was included in our dataset as atmospheric Carbon Dioxide (CO2) Dry Air Mole fractions, recorded by the Barrow Atmospheric Baseline Observatory (BRW) located in Utqiaġvik, Alaska. The readings from the BRW are characterized as 'having an Arctic maritime climate affected by variations of weather and sea ice conditions in the Central Arctic' due to its close proximity to the Arctic Ocean. Despite our presumptions regarding Carbon Dioxide and rising sea level due to its trapping of heat, we found there was almost no correlation between the atmospheric CO2 in BRW with the sea level from our weather stations. Interestingly enough, portions of Alaska have *decreasing* sea levels due to a process called glacial isostatic adjustment. This is the process where even if melting ice sheets in Alaska are contributing to sea level rise across the globe, the volume of ice melt actually leads to a decrease in sea levels off the Alaskan coast. Think of the ice in Alaska's land as a moon with its own gravitational pull.. as the moon itself loses mass, the gravitational pull will be weaker which will then lead to lowered sea levels around Alaska, while also moving the water elsewhere. \n",
    "\n",
    "With this in mind, in further studies, \n"
   ]
  },
  {
   "cell_type": "code",
   "execution_count": null,
   "id": "e3a92336-bd86-4003-ab1d-008d2c734174",
   "metadata": {},
   "outputs": [],
   "source": []
  }
 ],
 "metadata": {
  "kernelspec": {
   "display_name": "Python 3",
   "language": "python",
   "name": "python3"
  },
  "language_info": {
   "codemirror_mode": {
    "name": "ipython",
    "version": 3
   },
   "file_extension": ".py",
   "mimetype": "text/x-python",
   "name": "python",
   "nbconvert_exporter": "python",
   "pygments_lexer": "ipython3",
   "version": "3.8.8"
  }
 },
 "nbformat": 4,
 "nbformat_minor": 5
}
